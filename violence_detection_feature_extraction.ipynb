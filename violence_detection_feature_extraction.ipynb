{
  "nbformat": 4,
  "nbformat_minor": 0,
  "metadata": {
    "colab": {
      "name": "violence_detection_feature_extraction.ipynb",
      "provenance": [],
      "collapsed_sections": [],
      "mount_file_id": "1E99uHTmAZhfJfZ5LviZukgnQYRB9tZWp",
      "authorship_tag": "ABX9TyM13IaKMnPTv36I/7g6Lkyt",
      "include_colab_link": true
    },
    "kernelspec": {
      "name": "python3",
      "display_name": "Python 3"
    },
    "accelerator": "GPU"
  },
  "cells": [
    {
      "cell_type": "markdown",
      "metadata": {
        "id": "view-in-github",
        "colab_type": "text"
      },
      "source": [
        "<a href=\"https://colab.research.google.com/github/nigitha-16/Violence-Detection-in-Surveillance-Video/blob/master/violence_detection_feature_extraction.ipynb\" target=\"_parent\"><img src=\"https://colab.research.google.com/assets/colab-badge.svg\" alt=\"Open In Colab\"/></a>"
      ]
    },
    {
      "cell_type": "markdown",
      "metadata": {
        "id": "dUbhAEOxQtPh",
        "colab_type": "text"
      },
      "source": [
        "Unzip the folder containing videos"
      ]
    },
    {
      "cell_type": "code",
      "metadata": {
        "id": "EydEeqvWib7v",
        "colab_type": "code",
        "colab": {}
      },
      "source": [
        "!unzip '/content/drive/My Drive/no.zip' ##### path to zip file containing all videos"
      ],
      "execution_count": null,
      "outputs": []
    },
    {
      "cell_type": "markdown",
      "metadata": {
        "id": "RHqct9JqQ3aZ",
        "colab_type": "text"
      },
      "source": [
        "Import the required libraries"
      ]
    },
    {
      "cell_type": "code",
      "metadata": {
        "id": "ImTGjw0R8Ksc",
        "colab_type": "code",
        "colab": {}
      },
      "source": [
        "import tensorflow as tf\n",
        "from keras.layers import ZeroPadding3D\n",
        "from keras.layers import Conv3D\n",
        "from keras.models import Sequential\n",
        "from keras.layers.core import Dense, Dropout, Flatten\n",
        "from keras.models import Model\n",
        "from keras.optimizers import SGD\n",
        "from keras.layers import MaxPool3D\n",
        "import cv2\n",
        "import numpy as np\n",
        "import os\n",
        "from numpy import savetxt\n",
        "from numpy import loadtxt\n"
      ],
      "execution_count": null,
      "outputs": []
    },
    {
      "cell_type": "markdown",
      "metadata": {
        "id": "CnlsNXanQ8Fv",
        "colab_type": "text"
      },
      "source": [
        "Build the C3D archeitecture in keras"
      ]
    },
    {
      "cell_type": "code",
      "metadata": {
        "id": "EGtS54b9B0io",
        "colab_type": "code",
        "colab": {}
      },
      "source": [
        "def get_model(summary=False):\n",
        "    \"\"\" Return the Keras model of the network\n",
        "    \"\"\"\n",
        "    model = Sequential()\n",
        "    # 1st layer group\n",
        "    model.add(Conv3D(64,kernel_size=(3, 3, 3),activation='relu',\n",
        "                     name='conv1',input_shape=( 16, 112, 112,3),padding ='same'))\n",
        "    model.add(MaxPool3D(pool_size=(1, 2, 2), strides=(1, 2, 2), \n",
        "                           padding='valid', name='pool1'))\n",
        "    # 2nd layer group\n",
        "    model.add(Conv3D(128,kernel_size=( 3, 3, 3), activation='relu', \n",
        "                            padding='same', name='conv2'))\n",
        "    model.add(MaxPool3D(pool_size=(2, 2, 2), strides=(2, 2, 2), \n",
        "                           padding='valid', name='pool2'))\n",
        "    # 3rd layer group\n",
        "    model.add(Conv3D(256, kernel_size=(3, 3, 3), activation='relu', \n",
        "                            padding='same', name='conv3a',\n",
        "                            ))\n",
        "    model.add(Conv3D(256,kernel_size=(3, 3, 3), activation='relu', \n",
        "                            padding='same', name='conv3b',\n",
        "                            ))\n",
        "    model.add(MaxPool3D(pool_size=(2, 2, 2), strides=(2, 2, 2), \n",
        "                           padding='valid', name='pool3'))\n",
        "    # 4th layer group\n",
        "    model.add(Conv3D(512, kernel_size=(3, 3, 3), activation='relu', \n",
        "                            padding='same', name='conv4a',\n",
        "                            ))\n",
        "    model.add(Conv3D(512, kernel_size=(3, 3, 3), activation='relu', \n",
        "                            padding='same', name='conv4b',\n",
        "                            ))\n",
        "    model.add(MaxPool3D(pool_size=(2, 2, 2), strides=(2, 2, 2), \n",
        "                           padding='valid', name='pool4'))\n",
        "    # 5th layer group\n",
        "    model.add(Conv3D(512, kernel_size=(3, 3, 3), activation='relu', \n",
        "                            padding='same', name='conv5a',\n",
        "                            ))\n",
        "    model.add(Conv3D(512, kernel_size=(3, 3, 3), activation='relu', \n",
        "                            padding='same', name='conv5b',\n",
        "                            ))\n",
        "    model.add(ZeroPadding3D(padding=(0, 1, 1)))\n",
        "    model.add(MaxPool3D(pool_size=(2, 2, 2), strides=(2, 2, 2), \n",
        "                           padding='valid', name='pool5'))\n",
        "    model.add(Flatten())\n",
        "    # FC layers group\n",
        "    model.add(Dense(4096, activation='relu', name='fc6'))\n",
        "    model.add(Dropout(.5))\n",
        "    model.add(Dense(4096, activation='relu', name='fc7'))\n",
        "    model.add(Dropout(.5))\n",
        "    model.add(Dense(487, activation='softmax', name='fc8'))\n",
        "    if summary:\n",
        "        print(model.summary())\n",
        "    return model\n",
        "\n",
        "model = get_model(summary=True)"
      ],
      "execution_count": null,
      "outputs": []
    },
    {
      "cell_type": "markdown",
      "metadata": {
        "id": "5sZazAQXRFTN",
        "colab_type": "text"
      },
      "source": [
        "Load the weight to above model. Remove the last 2  layers to  get a feature vector of dimension 4096."
      ]
    },
    {
      "cell_type": "code",
      "metadata": {
        "id": "Kb0E0UBPFfXn",
        "colab_type": "code",
        "colab": {}
      },
      "source": [
        "model.load_weights('/content/drive/My Drive/C3D_Sport1M_weights_keras_2.2.4.h5') #####path to downloaded weights\n",
        "model1 = Model(model.input, model.layers[-3].output)\n",
        "model1.summary()"
      ],
      "execution_count": null,
      "outputs": []
    },
    {
      "cell_type": "markdown",
      "metadata": {
        "id": "baEbTgb-RMXz",
        "colab_type": "text"
      },
      "source": [
        "Save the new model with weights."
      ]
    },
    {
      "cell_type": "code",
      "metadata": {
        "id": "Rg_5_6guGO_K",
        "colab_type": "code",
        "colab": {}
      },
      "source": [
        "model1.save(r'/content/drive/My Drive/mymodel.h5')"
      ],
      "execution_count": null,
      "outputs": []
    },
    {
      "cell_type": "markdown",
      "metadata": {
        "id": "es8kU50RRvAr",
        "colab_type": "text"
      },
      "source": [
        "Loop through the video folder and set the fps such that we get 16 frames per segment and 32 segments per video. Pass the 32 segments to the model to extract the features."
      ]
    },
    {
      "cell_type": "code",
      "metadata": {
        "id": "eOLeuCkgjUtS",
        "colab_type": "code",
        "colab": {}
      },
      "source": [
        "####loop through the video folder#####\n",
        "ar=np.ones((32,4096))\n",
        "for file in os.listdir(r'/content/no'):\n",
        "  path=os.path.join(r'/content/no',file)\n",
        "  vidcap = cv2.VideoCapture(path)\n",
        "  \n",
        "  frame_number = vidcap.get(cv2.CAP_PROP_FRAME_COUNT)\n",
        "  fps = vidcap.get(cv2.CAP_PROP_FPS)\n",
        "  \n",
        "  ##### calculate the duration in seconds####\n",
        "  duration=frame_number / fps\n",
        "  \n",
        "\n",
        "  ######## the function returns the frame at nth second #######\n",
        "\n",
        "  def getFrame(sec):\n",
        "      vidcap.set(cv2.CAP_PROP_POS_MSEC,sec*1000)\n",
        "      hasFrames,image = vidcap.read()    \n",
        "      return hasFrames,image\n",
        "\n",
        "  sec =0\n",
        "  i=1\n",
        "  frameRate = duration/512\n",
        "  success=1\n",
        "  image_list=[]\n",
        "  img_list=[]\n",
        "  ##### loops till the end of video #########\n",
        "  while success:\n",
        "\n",
        "      success,img = getFrame(sec)\n",
        "      sec = sec + frameRate\n",
        "      if (success):\n",
        "\n",
        "          img=cv2.resize(img,(112,112))\n",
        "          image_list.append(img)\n",
        "          if i%16==0:\n",
        "              img_list.append(image_list)\n",
        "              image_list=[]\n",
        "\n",
        "          i=i+1\n",
        "###### the img_list contains 32*16 frames ###########\n",
        "  img_list=np.array(img_list)\n",
        "  print(img_list.shape)\n",
        "####### feature extraction ########\n",
        "  feat=model1.predict(img_list)\n",
        "  ar=np.append(ar,feat,axis=0)\n",
        "  "
      ],
      "execution_count": null,
      "outputs": []
    },
    {
      "cell_type": "code",
      "metadata": {
        "id": "hlUekbF5w1_1",
        "colab_type": "code",
        "colab": {}
      },
      "source": [
        "ar=ar[32:]"
      ],
      "execution_count": null,
      "outputs": []
    },
    {
      "cell_type": "markdown",
      "metadata": {
        "id": "If57-3CCTdbo",
        "colab_type": "text"
      },
      "source": [
        "Save the array to a csv file"
      ]
    },
    {
      "cell_type": "code",
      "metadata": {
        "id": "FWhvSkBYiaT7",
        "colab_type": "code",
        "colab": {}
      },
      "source": [
        "savetxt('/content/drive/My Drive/test_nom.csv',ar,delimiter=',')"
      ],
      "execution_count": null,
      "outputs": []
    },
    {
      "cell_type": "markdown",
      "metadata": {
        "id": "L9TSURPpT2GX",
        "colab_type": "text"
      },
      "source": [
        "Loading the csv file as numpy array"
      ]
    },
    {
      "cell_type": "code",
      "metadata": {
        "id": "0iG-Ec69gDZc",
        "colab_type": "code",
        "colab": {}
      },
      "source": [
        "loadtxt('/content/drive/My Drive/anom_nom_feature.csv',delimiter=',')"
      ],
      "execution_count": null,
      "outputs": []
    },
    {
      "cell_type": "code",
      "metadata": {
        "id": "9WderwEtlUIe",
        "colab_type": "code",
        "colab": {}
      },
      "source": [
        ""
      ],
      "execution_count": null,
      "outputs": []
    }
  ]
}