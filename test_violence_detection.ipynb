{
  "nbformat": 4,
  "nbformat_minor": 0,
  "metadata": {
    "colab": {
      "name": "test_violence_detection.ipynb",
      "provenance": [],
      "mount_file_id": "1xxokW00Pq6XmPnM-DGlHMbxx4WvV_YLr",
      "authorship_tag": "ABX9TyNj2+imQgx0Srwld2VQtRzo",
      "include_colab_link": true
    },
    "kernelspec": {
      "name": "python3",
      "display_name": "Python 3"
    }
  },
  "cells": [
    {
      "cell_type": "markdown",
      "metadata": {
        "id": "view-in-github",
        "colab_type": "text"
      },
      "source": [
        "<a href=\"https://colab.research.google.com/github/nigitha-16/Violence-Detection-in-Surveillance-Video/blob/master/test_violence_detection.ipynb\" target=\"_parent\"><img src=\"https://colab.research.google.com/assets/colab-badge.svg\" alt=\"Open In Colab\"/></a>"
      ]
    },
    {
      "cell_type": "code",
      "metadata": {
        "id": "oPgppNQ4I2Re",
        "colab_type": "code",
        "colab": {}
      },
      "source": [
        "from keras.models import load_model\n",
        "from keras.models import Sequential\n",
        "from keras.layers.core import Dense, Dropout, Flatten\n",
        "from keras.models import Model\n",
        "from keras.optimizers import SGD, Adagrad,Adam\n",
        "import tensorflow as tf\n",
        "from numpy import loadtxt\n",
        "import numpy as np\n",
        "import matplotlib.pyplot as plt\n"
      ],
      "execution_count": null,
      "outputs": []
    },
    {
      "cell_type": "code",
      "metadata": {
        "id": "7nadp7-0ULZ7",
        "colab_type": "code",
        "colab": {}
      },
      "source": [
        "initializer = tf.keras.initializers.GlorotNormal()"
      ],
      "execution_count": null,
      "outputs": []
    },
    {
      "cell_type": "code",
      "metadata": {
        "id": "OWgVvzNFJJFt",
        "colab_type": "code",
        "colab": {}
      },
      "source": [
        "def build_model():\n",
        "  model = Sequential()\n",
        "  model.add(Dense(512, input_dim=4096,kernel_regularizer='l2',kernel_initializer=initializer,activation='relu'))\n",
        "  #model.add(Dropout(0.6))\n",
        "  model.add(Dense(32,kernel_regularizer='l2',kernel_initializer=initializer))\n",
        "  #model.add(Dropout(0.6))\n",
        "  model.add(Dense(1,activation='sigmoid'))\n",
        "  return model"
      ],
      "execution_count": null,
      "outputs": []
    },
    {
      "cell_type": "code",
      "metadata": {
        "id": "Sn5UApehT4ae",
        "colab_type": "code",
        "colab": {}
      },
      "source": [
        "model=build_model()\n",
        "model.load_weights('/content/drive/My Drive/model_weights_violence_detection.h5')"
      ],
      "execution_count": null,
      "outputs": []
    },
    {
      "cell_type": "code",
      "metadata": {
        "id": "lphmTx5kKcZ6",
        "colab_type": "code",
        "colab": {}
      },
      "source": [
        "test_arr_anom=loadtxt('/content/drive/My Drive/test_anom_feat.csv',delimiter=',') #### load test features (normal)\n",
        "test_arr_norm=loadtxt('/content/drive/My Drive/test_nom_feat.csv',delimiter=',') #### load test features (anomalous)"
      ],
      "execution_count": null,
      "outputs": []
    },
    {
      "cell_type": "code",
      "metadata": {
        "id": "Zz_ArM7KJCls",
        "colab_type": "code",
        "colab": {}
      },
      "source": [
        "y=model.predict_classes(test_arr)\n",
        "y_pred=[]\n",
        "instance_score=[]\n",
        "for yy in range(int(len(y)/32)):\n",
        "  yyy=y[yy*32:yy*32+32]\n",
        "  instance_score.append(yyy.flatten())\n",
        "  y_pred.append(max(yyy))\n",
        "instance_score=np.array(instance_score)"
      ],
      "execution_count": null,
      "outputs": []
    },
    {
      "cell_type": "code",
      "metadata": {
        "id": "POJe53m5KShG",
        "colab_type": "code",
        "colab": {}
      },
      "source": [
        "fig=plt.figure(figsize=(20,20))\n",
        "for i in range(instance_score.shape[0]):\n",
        "  plt.subplot(10,2,i+1)\n",
        "  plt.plot(instance_score[i])\n",
        "  plt.show"
      ],
      "execution_count": null,
      "outputs": []
    },
    {
      "cell_type": "code",
      "metadata": {
        "id": "riD1HXe1KTgn",
        "colab_type": "code",
        "colab": {}
      },
      "source": [
        "\n",
        "n_vid_norm=int((test_arr_norm.shape[0])/32)\n",
        "n_vid_anom=int((test_arr_anom.shape[0])/32)\n",
        "y_0=[0]*n_vid_norm\n",
        "y_1=[1]*n_vid_norm\n",
        "y_true=y_1.extend(y_0)\n",
        "  \n",
        "\n",
        "from sklearn.metrics import precision_recall_fscore_support as score\n",
        "\n",
        "precision, recall, fscore, support = score(y_true, y_pred_class)\n",
        "print('precision: {}'.format(precision))\n",
        "print('recall: {}'.format(recall))\n",
        "print('fscore: {}'.format(fscore))\n",
        "print('support: {}'.format(support))\n",
        "    \n",
        "print(y_pred)\n",
        "print(y_true)"
      ],
      "execution_count": null,
      "outputs": []
    }
  ]
}
